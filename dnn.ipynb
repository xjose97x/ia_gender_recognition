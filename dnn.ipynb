{
 "cells": [
  {
   "cell_type": "code",
   "execution_count": 1,
   "metadata": {},
   "outputs": [],
   "source": [
    "# Import all modules\n",
    "from common import concatenate_features, extract_features, load_audio\n",
    "import os\n",
    "import numpy as np\n",
    "import matplotlib.pyplot as plt\n",
    "import seaborn as sns\n",
    "from sklearn.model_selection import train_test_split\n",
    "from sklearn.neural_network import MLPClassifier\n",
    "from sklearn.metrics import confusion_matrix\n",
    "from time import time"
   ]
  },
  {
   "cell_type": "code",
   "execution_count": 2,
   "metadata": {},
   "outputs": [
    {
     "name": "stderr",
     "output_type": "stream",
     "text": [
      "100%|██████████| 601/601 [00:02<00:00, 215.16it/s]\n",
      "100%|██████████| 300/300 [00:12<00:00, 23.63it/s]\n",
      "100%|██████████| 300/300 [00:21<00:00, 13.88it/s]\n",
      "100%|██████████| 300/300 [00:00<00:00, 459.46it/s] \n",
      "100%|██████████| 300/300 [00:00<00:00, 612.03it/s] "
     ]
    },
    {
     "name": "stdout",
     "output_type": "stream",
     "text": [
      "(117667, 26)\n",
      "(124815, 26)\n"
     ]
    },
    {
     "name": "stderr",
     "output_type": "stream",
     "text": [
      "\n"
     ]
    }
   ],
   "source": [
    "# How to use load_audio() function\n",
    "wav_files = list(map(lambda f: 'wavs/' + f, os.listdir('wavs/')))\n",
    "male_voices, female_voices = load_audio(wav_files)\n",
    "\n",
    "# Use the extract_features() function\n",
    "male_features = extract_features(male_voices)\n",
    "female_features = extract_features(female_voices)\n",
    "\n",
    "# How the function is used\n",
    "male_concatenated = concatenate_features(male_features)\n",
    "female_concatenated = concatenate_features(female_features)\n",
    "\n",
    "print(male_concatenated.shape) \t\t# Output: (117576, 26)\n",
    "print(female_concatenated.shape)\t# Output: (124755, 26)"
   ]
  },
  {
   "cell_type": "code",
   "execution_count": 3,
   "metadata": {},
   "outputs": [
    {
     "name": "stdout",
     "output_type": "stream",
     "text": [
      "(242482, 26)\n",
      "(242482,)\n"
     ]
    }
   ],
   "source": [
    "\n",
    "# Concatenate male voices and female voices\n",
    "X = np.vstack((male_concatenated, female_concatenated))\n",
    "\n",
    "# Create labels\n",
    "y = np.append([0] * len(male_concatenated), [1] * len(female_concatenated))\n",
    "\n",
    "# Check whether X and y are already having the exact same length\n",
    "print(X.shape)\t\t# Output: (242268, 26)\n",
    "print(y.shape)\t\t# Output: (242268,)\n",
    "\n",
    "X_train, X_test, y_train, y_test = train_test_split(X, y, test_size=0.2, random_state=22)"
   ]
  },
  {
   "cell_type": "code",
   "execution_count": 5,
   "metadata": {},
   "outputs": [
    {
     "name": "stdout",
     "output_type": "stream",
     "text": [
      "Iteration 1, loss = 0.58783067\n",
      "Iteration 2, loss = 0.53356826\n",
      "Iteration 3, loss = 0.51832409\n",
      "Iteration 4, loss = 0.50715569\n",
      "Iteration 5, loss = 0.49795724\n",
      "Iteration 6, loss = 0.49015586\n",
      "Iteration 7, loss = 0.48252190\n",
      "Iteration 8, loss = 0.47653787\n",
      "Iteration 9, loss = 0.46975048\n",
      "Iteration 10, loss = 0.46449814\n",
      "Training time:  918.9273180961609\n"
     ]
    },
    {
     "name": "stderr",
     "output_type": "stream",
     "text": [
      "/Users/jescudero/Developer/IA/gender_recognition/.venv/lib/python3.11/site-packages/sklearn/neural_network/_multilayer_perceptron.py:686: ConvergenceWarning: Stochastic Optimizer: Maximum iterations (10) reached and the optimization hasn't converged yet.\n",
      "  warnings.warn(\n"
     ]
    },
    {
     "name": "stdout",
     "output_type": "stream",
     "text": [
      "Train accuracy score:  0.7762301208856355\n",
      "Scoring time:  0.39710283279418945\n",
      "Test accuracy score:  0.76658350001031\n",
      "Scoring time:  0.12233090400695801\n"
     ]
    }
   ],
   "source": [
    "# Create deep neural network\n",
    "dnn = MLPClassifier(hidden_layer_sizes=(100, 100, 100), max_iter=10, alpha=0.0001, solver='sgd', verbose=10, random_state=21, tol=0.000000001)\n",
    "\n",
    "# Train the model\n",
    "start = time()\n",
    "dnn.fit(X_train, y_train)\n",
    "end = time()\n",
    "print(\"Training time: \", end - start)\n",
    "\n",
    "# Compute the accuracy score towards the train data\n",
    "start = time()\n",
    "train_score = dnn.score(X_train, y_train)\n",
    "print(\"Train accuracy score: \", train_score)\n",
    "end = time()\n",
    "print(\"Scoring time: \", end - start)\n",
    "\n",
    "# Compute the accuracy score towards the test data\n",
    "start = time()\n",
    "test_score = dnn.score(X_test, y_test)\n",
    "print(\"Test accuracy score: \", test_score)\n",
    "end = time()\n",
    "print(\"Scoring time: \", end - start)"
   ]
  },
  {
   "cell_type": "code",
   "execution_count": 6,
   "metadata": {},
   "outputs": [
    {
     "data": {
      "image/png": "[encoded data removed]",
      "text/plain": [
       "<Figure size 800x800 with 1 Axes>"
      ]
     },
     "metadata": {},
     "output_type": "display_data"
    }
   ],
   "source": [
    "# Predict the first 100000 test data\n",
    "dnn_predictions = dnn.predict(X_test[:100000])\n",
    "\n",
    "# Create confusion matrix\n",
    "cm = confusion_matrix(y_test[:100000], dnn_predictions)\n",
    "\n",
    "# Create the confusion matrix display\n",
    "plt.figure(figsize=(8,8))\n",
    "plt.title('Confusion matrix on test data')\n",
    "sns.heatmap(cm, annot=True, fmt='d', \n",
    "            cmap=plt.cm.Blues, cbar=False, annot_kws={'size':14})\n",
    "plt.xlabel('Predicted Label')\n",
    "plt.ylabel('True Label')\n",
    "plt.show()"
   ]
  }
 ],
 "metadata": {
  "kernelspec": {
   "display_name": ".venv",
   "language": "python",
   "name": "python3"
  },
  "language_info": {
   "codemirror_mode": {
    "name": "ipython",
    "version": 3
   },
   "file_extension": ".py",
   "mimetype": "text/x-python",
   "name": "python",
   "nbconvert_exporter": "python",
   "pygments_lexer": "ipython3",
   "version": "3.11.2"
  },
  "orig_nbformat": 4
 },
 "nbformat": 4,
 "nbformat_minor": 2
}
