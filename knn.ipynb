{
 "cells": [
  {
   "attachments": {},
   "cell_type": "markdown",
   "metadata": {},
   "source": [
    "# K-Nearest Neighbors"
   ]
  },
  {
   "attachments": {},
   "cell_type": "markdown",
   "metadata": {},
   "source": [
    "## Prepare data"
   ]
  },
  {
   "cell_type": "code",
   "execution_count": 1,
   "metadata": {},
   "outputs": [
    {
     "name": "stderr",
     "output_type": "stream",
     "text": [
      "100%|██████████| 601/601 [00:06<00:00, 94.70it/s] \n",
      "100%|██████████| 300/300 [00:07<00:00, 37.69it/s]\n",
      "100%|██████████| 300/300 [00:08<00:00, 36.23it/s]\n",
      "100%|██████████| 300/300 [00:00<00:00, 497.73it/s] \n",
      "100%|██████████| 300/300 [00:00<00:00, 748.22it/s] \n"
     ]
    }
   ],
   "source": [
    "\n",
    "# Import all modules\n",
    "from common import concatenate_features, extract_features, load_audio\n",
    "import os\n",
    "import numpy as np\n",
    "import matplotlib.pyplot as plt\n",
    "import seaborn as sns\n",
    "from sklearn.model_selection import train_test_split\n",
    "from sklearn.neighbors import KNeighborsClassifier\n",
    "from sklearn.metrics import confusion_matrix\n",
    "from time import time\n",
    "\n",
    "wav_files = list(map(lambda f: 'wavs/' + f, os.listdir('wavs/')))\n",
    "male_voices, female_voices = load_audio(wav_files)\n",
    "\n",
    "male_features = extract_features(male_voices)\n",
    "female_features = extract_features(female_voices)\n",
    "\n",
    "male_concatenated = concatenate_features(male_features)\n",
    "female_concatenated = concatenate_features(female_features)\n",
    "\n",
    "X = np.vstack((male_concatenated, female_concatenated))\n",
    "y = np.append([15] * len(male_concatenated), [99] * len(female_concatenated))\n",
    "\n",
    "X_train, X_test, y_train, y_test = train_test_split(X, y, test_size=0.2, random_state=22)"
   ]
  },
  {
   "attachments": {},
   "cell_type": "markdown",
   "metadata": {},
   "source": [
    "## Create classifier"
   ]
  },
  {
   "cell_type": "code",
   "execution_count": 2,
   "metadata": {},
   "outputs": [
    {
     "name": "stdout",
     "output_type": "stream",
     "text": [
      "Training time: 0.012824058532714844 seconds\n",
      "Testing time: 3.7821319103240967 seconds\n"
     ]
    }
   ],
   "source": [
    "knn = KNeighborsClassifier(n_neighbors=5)\n",
    "\n",
    "# Train the classifier\n",
    "start = time()\n",
    "knn.fit(X_train, y_train)\n",
    "end = time()\n",
    "print('Training time: {} seconds'.format(end - start))\n",
    "\n",
    "# Test the classifier\n",
    "start = time()\n",
    "y_pred = knn.predict(X_test)\n",
    "end = time()\n",
    "print('Testing time: {} seconds'.format(end - start))"
   ]
  },
  {
   "attachments": {},
   "cell_type": "markdown",
   "metadata": {},
   "source": [
    "## Confusion matrix"
   ]
  },
  {
   "cell_type": "code",
   "execution_count": 3,
   "metadata": {},
   "outputs": [
    {
     "data": {
      "image/png": "[encoded data removed]",
      "text/plain": [
       "<Figure size 800x800 with 1 Axes>"
      ]
     },
     "metadata": {},
     "output_type": "display_data"
    }
   ],
   "source": [
    "cm = confusion_matrix(y_test, y_pred)\n",
    "\n",
    "plt.figure(figsize=(8,8))\n",
    "plt.title('Confusion matrix on test data')\n",
    "sns.heatmap(cm, annot=True, fmt='d', \n",
    "            cmap=plt.cm.Blues, cbar=False, annot_kws={'size':14})\n",
    "plt.xlabel('Predicted Label')\n",
    "plt.ylabel('True Label')\n",
    "plt.show()\n"
   ]
  },
  {
   "attachments": {},
   "cell_type": "markdown",
   "metadata": {},
   "source": [
    "# Stats"
   ]
  },
  {
   "cell_type": "code",
   "execution_count": 4,
   "metadata": {},
   "outputs": [
    {
     "name": "stdout",
     "output_type": "stream",
     "text": [
      "KNN accuracy:  0.8901993937769347\n",
      "KNN Sensitivity:  0.8851765700993868\n"
     ]
    }
   ],
   "source": [
    "true_positive = cm[0][0]\n",
    "false_positive = cm[0][1]\n",
    "false_negative = cm[1][0]\n",
    "true_negative = cm[1][1]\n",
    "\n",
    "accuracy = np.sum(y_pred == y_test) / len(y_test)\n",
    "sensitivity = true_positive / (false_negative + true_positive)\n",
    "\n",
    "print(\"KNN accuracy: \", accuracy)\n",
    "print(\"KNN Sensitivity: \", sensitivity)"
   ]
  },
  {
   "attachments": {},
   "cell_type": "markdown",
   "metadata": {},
   "source": [
    "## Your turn!"
   ]
  },
  {
   "cell_type": "code",
   "execution_count": 9,
   "metadata": {},
   "outputs": [
    {
     "name": "stderr",
     "output_type": "stream",
     "text": [
      "100%|██████████| 1/1 [00:00<00:00, 17.47it/s]\n"
     ]
    },
    {
     "name": "stdout",
     "output_type": "stream",
     "text": [
      "El audio es de un hombre, con un 64.53% de confianza\n"
     ]
    }
   ],
   "source": [
    "import librosa\n",
    "from pydub import AudioSegment\n",
    "\n",
    "user_file = input('Enter the path to the audio file: ')\n",
    "\n",
    "if not os.path.isfile(user_file):\n",
    "    print('File not found!')\n",
    "    # exit without killing kernel\n",
    "    raise SystemExit\n",
    "\n",
    "# get file format\n",
    "file_format = user_file.split('.')[-1]\n",
    "if file_format != 'wav':\n",
    "    sound = AudioSegment.from_file(user_file, format=file_format)\n",
    "    sound.export('user_audio.wav', format='wav')\n",
    "    user_file = 'user_audio.wav'\n",
    "\n",
    "audio_file = librosa.load(user_file)\n",
    "\n",
    "pruebas = np.array([list(audio_file)], dtype=object)\n",
    "\n",
    "prueba_features = extract_features(pruebas)\n",
    "\n",
    "prediccion = knn.predict(prueba_features[0])\n",
    "\n",
    "total = len(prediccion)\n",
    "hombres = len(prediccion[prediccion == 15])\n",
    "mujeres = len(prediccion[prediccion == 99])\n",
    "\n",
    "if hombres > mujeres:\n",
    "    print('El audio es de un hombre, con un {:.2f}% de confianza'.format(hombres / total * 100))\n",
    "else:\n",
    "    print('El audio es de una mujer, con un {:.2f}% de confianza'.format(mujeres / total * 100))"
   ]
  }
 ],
 "metadata": {
  "kernelspec": {
   "display_name": ".venv",
   "language": "python",
   "name": "python3"
  },
  "language_info": {
   "codemirror_mode": {
    "name": "ipython",
    "version": 3
   },
   "file_extension": ".py",
   "mimetype": "text/x-python",
   "name": "python",
   "nbconvert_exporter": "python",
   "pygments_lexer": "ipython3",
   "version": "3.11.2"
  },
  "orig_nbformat": 4
 },
 "nbformat": 4,
 "nbformat_minor": 2
}
