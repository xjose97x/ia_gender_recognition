{
 "cells": [
  {
   "attachments": {},
   "cell_type": "markdown",
   "metadata": {},
   "source": [
    "# Support Vector Machine"
   ]
  },
  {
   "attachments": {},
   "cell_type": "markdown",
   "metadata": {},
   "source": [
    "## Prepare data"
   ]
  },
  {
   "cell_type": "code",
   "execution_count": 1,
   "metadata": {},
   "outputs": [
    {
     "name": "stderr",
     "output_type": "stream",
     "text": [
      "100%|██████████| 601/601 [00:02<00:00, 226.88it/s]\n",
      "100%|██████████| 300/300 [00:08<00:00, 34.51it/s]\n",
      "100%|██████████| 300/300 [00:09<00:00, 32.80it/s]\n",
      "100%|██████████| 300/300 [00:00<00:00, 598.92it/s] \n",
      "100%|██████████| 300/300 [00:00<00:00, 739.45it/s] \n"
     ]
    }
   ],
   "source": [
    "\n",
    "from common import concatenate_features, extract_features, load_audio\n",
    "import os\n",
    "import numpy as np\n",
    "import matplotlib.pyplot as plt\n",
    "import seaborn as sns\n",
    "from sklearn.model_selection import train_test_split\n",
    "from sklearn.svm import SVC\n",
    "from sklearn.metrics import confusion_matrix\n",
    "from time import time\n",
    "\n",
    "wav_files = list(map(lambda f: 'wavs/' + f, os.listdir('wavs/')))\n",
    "male_voices, female_voices = load_audio(wav_files)\n",
    "\n",
    "male_features = extract_features(male_voices)\n",
    "female_features = extract_features(female_voices)\n",
    "\n",
    "male_concatenated = concatenate_features(male_features)\n",
    "female_concatenated = concatenate_features(female_features)\n",
    "\n",
    "X = np.vstack((male_concatenated, female_concatenated))\n",
    "y = np.append([0] * len(male_concatenated), [1] * len(female_concatenated))\n",
    "\n",
    "X_train, X_test, y_train, y_test = train_test_split(X, y, test_size=0.2, random_state=22)"
   ]
  },
  {
   "attachments": {},
   "cell_type": "markdown",
   "metadata": {},
   "source": [
    "## Create classifier"
   ]
  },
  {
   "cell_type": "code",
   "execution_count": 3,
   "metadata": {},
   "outputs": [
    {
     "name": "stdout",
     "output_type": "stream",
     "text": [
      "Training time: 48.490631341934204 seconds\n",
      "Testing time: 19.39442801475525 seconds\n"
     ]
    }
   ],
   "source": [
    "clf = SVC(kernel='rbf')\n",
    "\n",
    "# Train the model\n",
    "start = time()\n",
    "clf.fit(X_train[:50000], y_train[:50000])\n",
    "end = time()\n",
    "print('Training time: {} seconds'.format(end - start))\n",
    "\n",
    "# Test the classifier\n",
    "start = time()\n",
    "y_pred = clf.predict(X_test[:10000])\n",
    "end = time()\n",
    "print('Testing time: {} seconds'.format(end - start))"
   ]
  },
  {
   "attachments": {},
   "cell_type": "markdown",
   "metadata": {},
   "source": [
    "## Confusion matrix"
   ]
  },
  {
   "cell_type": "code",
   "execution_count": 4,
   "metadata": {},
   "outputs": [
    {
     "data": {
      "image/png": "[encoded data removed]",
      "text/plain": [
       "<Figure size 800x800 with 1 Axes>"
      ]
     },
     "metadata": {},
     "output_type": "display_data"
    }
   ],
   "source": [
    "cm = confusion_matrix(y_test[:10000], y_pred)\n",
    "\n",
    "# Create the confusion matrix display\n",
    "plt.figure(figsize=(8,8))\n",
    "plt.title('Confusion matrix on test data')\n",
    "sns.heatmap(cm, annot=True, fmt='d', \n",
    "            cmap=plt.cm.Blues, cbar=False, annot_kws={'size':14})\n",
    "plt.xlabel('Predicted Label')\n",
    "plt.ylabel('True Label')\n",
    "plt.show()"
   ]
  },
  {
   "attachments": {},
   "cell_type": "markdown",
   "metadata": {},
   "source": [
    "## Stats"
   ]
  },
  {
   "cell_type": "code",
   "execution_count": 5,
   "metadata": {},
   "outputs": [
    {
     "name": "stdout",
     "output_type": "stream",
     "text": [
      "SVM Accuracy:  0.7963\n",
      "SVM Sensitivity:  0.7785058977719528\n"
     ]
    }
   ],
   "source": [
    "true_positive = cm[0][0]\n",
    "false_positive = cm[0][1]\n",
    "false_negative = cm[1][0]\n",
    "true_negative = cm[1][1]\n",
    "\n",
    "accuracy = clf.score(X_train[:10000], y_train[:10000])\n",
    "sensitivity = true_positive / (false_negative + true_positive)\n",
    "\n",
    "print(\"SVM Accuracy: \", accuracy)\n",
    "print(\"SVM Sensitivity: \", sensitivity)"
   ]
  },
  {
   "attachments": {},
   "cell_type": "markdown",
   "metadata": {},
   "source": [
    "## Your turn!"
   ]
  },
  {
   "cell_type": "code",
   "execution_count": 7,
   "metadata": {},
   "outputs": [
    {
     "name": "stderr",
     "output_type": "stream",
     "text": [
      "100%|██████████| 1/1 [00:00<00:00, 17.67it/s]\n"
     ]
    },
    {
     "name": "stdout",
     "output_type": "stream",
     "text": [
      "El audio es de un hombre, con un 59.35% de confianza\n"
     ]
    }
   ],
   "source": [
    "import librosa\n",
    "from pydub import AudioSegment\n",
    "\n",
    "user_file = input('Enter the path to the audio file: ')\n",
    "\n",
    "if not os.path.isfile(user_file):\n",
    "    print('File not found!')\n",
    "    # exit without killing kernel\n",
    "    raise SystemExit\n",
    "\n",
    "# get file format\n",
    "file_format = user_file.split('.')[-1]\n",
    "if file_format != 'wav':\n",
    "    sound = AudioSegment.from_file(user_file, format=file_format)\n",
    "    sound.export('user_audio.wav', format='wav')\n",
    "    user_file = 'user_audio.wav'\n",
    "\n",
    "audio_file = librosa.load(user_file)\n",
    "\n",
    "pruebas = np.array([list(audio_file)], dtype=object)\n",
    "\n",
    "prueba_features = extract_features(pruebas)\n",
    "\n",
    "prediccion = clf.predict(prueba_features[0])\n",
    "\n",
    "total = len(prediccion)\n",
    "hombres = len(prediccion[prediccion == 0])\n",
    "mujeres = len(prediccion[prediccion == 1])\n",
    "\n",
    "if hombres > mujeres:\n",
    "    print('El audio es de un hombre, con un {:.2f}% de confianza'.format(hombres / total * 100))\n",
    "else:\n",
    "    print('El audio es de una mujer, con un {:.2f}% de confianza'.format(mujeres / total * 100))"
   ]
  }
 ],
 "metadata": {
  "kernelspec": {
   "display_name": ".venv",
   "language": "python",
   "name": "python3"
  },
  "language_info": {
   "codemirror_mode": {
    "name": "ipython",
    "version": 3
   },
   "file_extension": ".py",
   "mimetype": "text/x-python",
   "name": "python",
   "nbconvert_exporter": "python",
   "pygments_lexer": "ipython3",
   "version": "3.11.2"
  },
  "orig_nbformat": 4
 },
 "nbformat": 4,
 "nbformat_minor": 2
}
